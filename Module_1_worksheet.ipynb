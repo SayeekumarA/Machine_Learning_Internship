{
  "cells": [
    {
      "cell_type": "markdown",
      "metadata": {
        "id": "MkoDbq-9W6Fd"
      },
      "source": [
        "# Vectors using Numpy"
      ]
    },
    {
      "cell_type": "markdown",
      "metadata": {
        "id": "ExU43HLnXBiU"
      },
      "source": [
        "#### **What is Numpy?**\n",
        "NumPy is the fundamental package for scientific computing in Python. It is a Python library that provides a multidimensional array object, various derived objects (such as masked arrays and matrices), and an assortment of routines for fast operations on arrays, including mathematical, logical, shape manipulation, sorting, selecting, I/O, discrete Fourier transforms, basic linear algebra, basic statistical operations, random simulation and much more.\n",
        "\n",
        "There are several important differences between NumPy arrays and the standard Python sequences(lists):\n",
        "\n",
        "*   NumPy arrays have a fixed size at creation, unlike Python lists (which can grow dynamically). Changing the size of an ndarray will create a new array and delete the original.\n",
        "*   The elements in a NumPy array are all required to be of the same data type, and thus will be the same size in memory. The exception: one can have arrays of (Python, including NumPy) objects, thereby allowing for arrays of different sized elements.\n",
        "*    NumPy arrays facilitate advanced mathematical and other types of operations on large numbers of data. Typically, such operations are executed more efficiently and with less code than is possible using Python’s built-in sequences.\n",
        "*    A growing plethora of scientific and mathematical Python-based packages are using NumPy arrays; though these typically support Python-sequence input, they convert such input to NumPy arrays prior to processing, and they often output NumPy arrays. Numpy is preferred due to its performance in computation.\n",
        "\n"
      ]
    },
    {
      "cell_type": "code",
      "execution_count": 25,
      "metadata": {
        "id": "3jwUcdXDXqKQ"
      },
      "outputs": [],
      "source": [
        "# Lets Import Numpy\n",
        "import numpy as np"
      ]
    },
    {
      "cell_type": "code",
      "execution_count": 26,
      "metadata": {
        "id": "qnb4q6weYHJs"
      },
      "outputs": [
        {
          "name": "stdout",
          "output_type": "stream",
          "text": [
            "[2 3 4]\n",
            "[4 6 8]\n"
          ]
        }
      ],
      "source": [
        "# TASK: Define Numpy arrays with names: n1, n2\n",
        "# Reference: https://numpy.org/doc/stable/user/quickstart.html#array-creation\n",
        "\n",
        "# Your Code:\n",
        "n1=np.array([2,3,4])\n",
        "n2=np.array([4,6,8])\n",
        "\n",
        "\n",
        "\n",
        "\n",
        "print(n1)\n",
        "print(n2)"
      ]
    },
    {
      "cell_type": "code",
      "execution_count": 27,
      "metadata": {
        "id": "X9QwNVT2Yd8I"
      },
      "outputs": [
        {
          "name": "stdout",
          "output_type": "stream",
          "text": [
            "[22 33 44]\n"
          ]
        }
      ],
      "source": [
        "# TASK: Redefine n1 as a vector/array with the values 22,33,44 and order of the vector as 1x3\n",
        "\n",
        "# Your Code:\n",
        "n=11*n1\n",
        "\n",
        "\n",
        "\n",
        "\n",
        "print(n)"
      ]
    },
    {
      "cell_type": "markdown",
      "metadata": {
        "id": "3dHQ9ItHaQjk"
      },
      "source": [
        "#### Addition\n",
        "\n",
        "Adding numpy vectors is as simple as performing regular addition in Python."
      ]
    },
    {
      "cell_type": "code",
      "execution_count": 28,
      "metadata": {
        "id": "WKU9pUMpY2t5"
      },
      "outputs": [
        {
          "name": "stdout",
          "output_type": "stream",
          "text": [
            "[24 35 46]\n",
            "[2 3 4]\n"
          ]
        }
      ],
      "source": [
        "# TASK: Add vector [2, 2, 2] with n1 from earlier\n",
        "\n",
        "# Your Code:\n",
        "v1=np.array([2, 2, 2])\n",
        "n3=n+v1\n",
        "print(n3)\n",
        "print(n1)\n",
        "\n",
        "\n",
        "\n",
        "# Expected output: [24, 35, 46]"
      ]
    },
    {
      "cell_type": "markdown",
      "metadata": {
        "id": "qGmma2jfbEzr"
      },
      "source": [
        "#### Subtraction\n",
        "\n",
        "Subtracting numpy vectors is also as simple as performing regular subtraction in Python"
      ]
    },
    {
      "cell_type": "code",
      "execution_count": 29,
      "metadata": {
        "id": "_Pmm06fpZEka"
      },
      "outputs": [
        {
          "name": "stdout",
          "output_type": "stream",
          "text": [
            "[20 30 40]\n"
          ]
        }
      ],
      "source": [
        "# TASK: Subtract vector [2, 3, 4] with n1 from earlier\n",
        "\n",
        "# Your Code:\n",
        "s1=[2, 3, 4]\n",
        "n4=n-s1\n",
        "print(n4)\n",
        "\n",
        "\n",
        "# Expected output: [20, 30, 40]"
      ]
    },
    {
      "cell_type": "markdown",
      "metadata": {
        "id": "YKJ31IVsbcYv"
      },
      "source": [
        "#### Scalar Multiplication/ Element-wise multiplication\n",
        "\n",
        "This is also very easy to perform. Regular Python is enough or numpy also comes with functions to perform the same\n",
        "\n",
        "https://numpy.org/doc/stable/reference/generated/numpy.multiply.html#numpy-multiply\n"
      ]
    },
    {
      "cell_type": "code",
      "execution_count": 30,
      "metadata": {
        "id": "jVcu1QS8bZHu"
      },
      "outputs": [
        {
          "name": "stdout",
          "output_type": "stream",
          "text": [
            "[ 550  825 1100]\n"
          ]
        }
      ],
      "source": [
        "# TASK: Multiply n1 with 25\n",
        "\n",
        "# Your Code:\n",
        "n5=25*n\n",
        "print(n5)\n",
        "\n",
        "\n",
        "# Expected output: [550,  825, 1100]"
      ]
    },
    {
      "cell_type": "code",
      "execution_count": 31,
      "metadata": {
        "id": "1-UuqETKbT-I"
      },
      "outputs": [
        {
          "name": "stdout",
          "output_type": "stream",
          "text": [
            "[242 396 572]\n"
          ]
        }
      ],
      "source": [
        "# TASK: perform element-wise multiplication of n1 and [11, 12, 13]. Use numpy's multiply function\n",
        "\n",
        "# Your Code:\n",
        "m1=np.array([11,12,13])\n",
        "n6=np.multiply(n,m1)\n",
        "print(n6)\n",
        "\n",
        "\n",
        "\n",
        "# Expected output: [242, 396, 572]"
      ]
    },
    {
      "cell_type": "markdown",
      "metadata": {
        "id": "jU9xLGMerO9c"
      },
      "source": [
        "#### Vector Multiplication\n",
        "\n",
        "Vector multiplication, or also called dot product of vectors/matrices. Numpy has functions to perform the same\n",
        "\n",
        "https://numpy.org/doc/stable/reference/generated/numpy.dot.html#numpy-dot\n",
        "https://numpy.org/doc/stable/reference/generated/numpy.reshape.html#numpy-reshape\n",
        "\n",
        "note: numpy functions also carry additional features for certain scenarios of inputs. The reference mentions all of them, we will be looking only at our required case here."
      ]
    },
    {
      "cell_type": "code",
      "execution_count": 32,
      "metadata": {
        "id": "7qptpnxFcM4e"
      },
      "outputs": [
        {
          "name": "stdout",
          "output_type": "stream",
          "text": [
            "[[ 66  66  66  66]\n",
            " [ 99  99  99  99]\n",
            " [132 132 132 132]]\n"
          ]
        }
      ],
      "source": [
        "# TASK: perform vector multiplication of n1 (use numpy reshape:- set order as 3 x 1) and a vector of only 3's, and of order/dimension 1 x 4\n",
        "\n",
        "# Your Code:\n",
        "n = np.array([22, 33, 44]).reshape(3, 1)\n",
        "result = np.array([[3, 3, 3, 3]])\n",
        "result = n * result\n",
        "print(result)\n",
        "\n",
        "\n",
        "# Expected Output:\n",
        "# [[ 66,  66,  66,  66],\n",
        "#  [ 99,  99,  99,  99],\n",
        "#  [132, 132, 132, 132]]"
      ]
    },
    {
      "cell_type": "code",
      "execution_count": 36,
      "metadata": {
        "id": "lpnppkLqs4Oq"
      },
      "outputs": [
        {
          "name": "stdout",
          "output_type": "stream",
          "text": [
            "3509\n"
          ]
        }
      ],
      "source": [
        "# TASK: perform vector multiplication of n1 and transpose of n1. Use numpy techniques for transpose\n",
        "\n",
        "# Your Code:\n",
        "n = np.array([22, 33, 44])\n",
        "N = n.T  # Now, N is 1x3\n",
        "n8 = np.dot(n, N)  # Proper matrix multiplication\n",
        "\n",
        "print(n8)\n",
        "\n",
        "\n",
        "\n",
        "# Expected output: 3059"
      ]
    },
    {
      "cell_type": "code",
      "execution_count": 37,
      "metadata": {
        "id": "gkjYZygrs-Va"
      },
      "outputs": [
        {
          "name": "stdout",
          "output_type": "stream",
          "text": [
            "[[ 1.  0. -0.]\n",
            " [ 0.  1.  0.]\n",
            " [ 0.  0.  1.]]\n"
          ]
        }
      ],
      "source": [
        "# TASK: Initialize a vector (v1) with prime numbers 1 to 23, with order 3x3. Initialize a vector (v2) as inverse of v1.\n",
        "# Perform vector multiplication of both and get identityu matrix. Use numpy rounding methods if needed\n",
        "# https://numpy.org/doc/stable/reference/generated/numpy.linalg.inv.html#numpy-linalg-inv\n",
        "# https://numpy.org/doc/stable/reference/generated/numpy.round.html#numpy-round\n",
        "\n",
        "# Your Code:\n",
        "v1 = np.array([[2, 3, 5],[7, 11, 13],[17, 19, 23]])\n",
        "v2 = np.linalg.inv(v1)\n",
        "mul =  np.dot(v1, v2)\n",
        "mul = np.round(mul, decimals=1)\n",
        "print(mul)\n",
        "\n",
        "\n",
        "\n",
        "\n",
        "\n",
        "\n",
        "# Expected output (with or without signs both is ok):\n",
        "# [[ 1., -0.,  0.],\n",
        "#  [ 0.,  1.,  0.],\n",
        "#  [-0., -0.,  1.]]"
      ]
    },
    {
      "cell_type": "markdown",
      "metadata": {
        "id": "393LNCAH3Jqd"
      },
      "source": [
        "#### Go Through Documentation\n",
        "\n",
        "https://numpy.org/doc/stable/user/quickstart.html#the-basics"
      ]
    },
    {
      "cell_type": "code",
      "execution_count": 39,
      "metadata": {
        "id": "hasQQa25tMt3"
      },
      "outputs": [
        {
          "name": "stdout",
          "output_type": "stream",
          "text": [
            "[[1.41421356 1.73205081 2.23606798]\n",
            " [2.64575131 3.31662479 3.60555128]\n",
            " [4.12310563 4.35889894 4.79583152]]\n",
            "[[7.38905610e+00 2.00855369e+01 1.48413159e+02]\n",
            " [1.09663316e+03 5.98741417e+04 4.42413392e+05]\n",
            " [2.41549528e+07 1.78482301e+08 9.74480345e+09]]\n",
            "[[0.69314718 1.09861229 1.60943791]\n",
            " [1.94591015 2.39789527 2.56494936]\n",
            " [2.83321334 2.94443898 3.13549422]]\n"
          ]
        }
      ],
      "source": [
        "# TASK: Study and perform 3 different universal functions on v1\n",
        "#1\n",
        "sqroot = np.sqrt(v1)\n",
        "print(sqroot)\n",
        "#2\n",
        "exponent = np.exp(v1)\n",
        "print(exponent)\n",
        "#3\n",
        "logarithimic = np.log(v1)\n",
        "print(logarithimic)\n",
        "\n",
        "\n"
      ]
    }
  ],
  "metadata": {
    "colab": {
      "provenance": []
    },
    "kernelspec": {
      "display_name": "Python 3",
      "name": "python3"
    },
    "language_info": {
      "codemirror_mode": {
        "name": "ipython",
        "version": 3
      },
      "file_extension": ".py",
      "mimetype": "text/x-python",
      "name": "python",
      "nbconvert_exporter": "python",
      "pygments_lexer": "ipython3",
      "version": "3.12.2"
    }
  },
  "nbformat": 4,
  "nbformat_minor": 0
}
