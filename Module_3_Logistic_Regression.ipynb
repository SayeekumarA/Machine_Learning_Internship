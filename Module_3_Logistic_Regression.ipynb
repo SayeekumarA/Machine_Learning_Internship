{
  "cells": [
    {
      "cell_type": "markdown",
      "id": "0j1hUL8pBP-a",
      "metadata": {
        "id": "0j1hUL8pBP-a",
        "pycharm": {
          "name": "#%% md\n"
        }
      },
      "source": [
        "# Module 3: Logistic Regression\n",
        "\n",
        "In this assignment, you will\n",
        "- explore the sigmoid function (also known as the logistic function)\n",
        "- explore logistic regression; which uses the sigmoid function"
      ]
    },
    {
      "cell_type": "code",
      "execution_count": 15,
      "id": "k8pK7vJVBP-8",
      "metadata": {
        "id": "k8pK7vJVBP-8",
        "pycharm": {
          "name": "#%%\n"
        }
      },
      "outputs": [],
      "source": [
        "import numpy as np\n",
        "import matplotlib.pyplot as plt\n",
        "from utils import plot_data\n"
      ]
    },
    {
      "cell_type": "markdown",
      "id": "jZNwkSRqBP_K",
      "metadata": {
        "id": "jZNwkSRqBP_K",
        "pycharm": {
          "name": "#%% md\n"
        }
      },
      "source": [
        "## Sigmoid or Logistic Function\n",
        "As discussed in the lecture videos, for a classification task, we can start by using our linear regression model, $\\h(\\mathbf{x}^{(i)}) = \\mathbf{w} \\cdot  \\mathbf{x}^{(i)} + \\b$, to predict $y$ given $x$.\n",
        "- However, we would like the predictions of our classification model to be between 0 and 1 since our output variable $y$ is either 0 or 1.\n",
        "- This can be accomplished by using a \"sigmoid function\" which maps all input values to values between 0 and 1.\n",
        "\n",
        "\n",
        "Let's implement the sigmoid function and see this for ourselves.\n",
        "\n",
        "## Formula for Sigmoid function\n",
        "\n",
        "The formula for a sigmoid function is as follows -  \n",
        "\n",
        "$g(z) = \\frac{1}{1+e^{-z}}\\tag{1}$\n",
        "\n",
        "In the case of logistic regression, z (the input to the sigmoid function), is the output of a linear regression model.\n",
        "- In the case of a single example, $z$ is scalar.\n",
        "- in the case of multiple examples, $z$ may be a vector consisting of $m$ values, one for each example.\n",
        "- The implementation of the sigmoid function should cover both of these potential input formats.\n",
        "Let's implement this in Python."
      ]
    },
    {
      "cell_type": "markdown",
      "id": "89BAEbVaBP_N",
      "metadata": {
        "id": "89BAEbVaBP_N",
        "pycharm": {
          "name": "#%% md\n"
        }
      },
      "source": [
        "NumPy has a function called [`exp()`](https://numpy.org/doc/stable/reference/generated/numpy.exp.html), which offers a convenient way to calculate the exponential ( $e^{z}$) of all elements in the input array (`z`).\n",
        "\n",
        "It also works with a single number as an input, as shown below."
      ]
    },
    {
      "cell_type": "code",
      "execution_count": 16,
      "id": "evHOcwpiBP_Q",
      "metadata": {
        "id": "evHOcwpiBP_Q",
        "pycharm": {
          "name": "#%%\n"
        }
      },
      "outputs": [
        {
          "name": "stdout",
          "output_type": "stream",
          "text": [
            "Input to exp: [1 2 3]\n",
            "Output of exp: [ 2.7183  7.3891 20.0855]\n",
            "Input to exp: 1\n",
            "Output of exp: 2.718281828459045\n"
          ]
        }
      ],
      "source": [
        "# Input is an array.\n",
        "input_array = np.array([1,2,3])\n",
        "exp_array = np.exp(input_array)\n",
        "\n",
        "print(\"Input to exp:\", input_array)\n",
        "print(\"Output of exp:\", exp_array)\n",
        "\n",
        "# Input is a single number\n",
        "input_val = 1\n",
        "exp_val = np.exp(input_val)\n",
        "\n",
        "print(\"Input to exp:\", input_val)\n",
        "print(\"Output of exp:\", exp_val)"
      ]
    },
    {
      "cell_type": "markdown",
      "id": "LRyoptqwBP_d",
      "metadata": {
        "id": "LRyoptqwBP_d",
        "pycharm": {
          "name": "#%% md\n"
        }
      },
      "source": [
        "The `sigmoid` function is implemented in python as shown in the cell below."
      ]
    },
    {
      "cell_type": "code",
      "execution_count": 17,
      "id": "y6pA2Ez5BP_h",
      "metadata": {
        "id": "y6pA2Ez5BP_h",
        "pycharm": {
          "name": "#%%\n"
        }
      },
      "outputs": [],
      "source": [
        "def sigmoid(z):\n",
        "    \"\"\"\n",
        "    Compute the sigmoid of z\n",
        "\n",
        "    Args:\n",
        "        z (ndarray): A scalar, numpy array of any size.\n",
        "\n",
        "    Returns:\n",
        "        g (ndarray): sigmoid(z), with the same shape as z\n",
        "\n",
        "    \"\"\"\n",
        "    #####################################\n",
        "    # WRITE THE SIGMOID FUNCTION HERE\n",
        "    g = (1/(1+np.exp(-z)))\n",
        "\n",
        "    #####################################\n",
        "\n",
        "    return g"
      ]
    },
    {
      "cell_type": "markdown",
      "id": "aQO9F4NbBP_k",
      "metadata": {
        "id": "aQO9F4NbBP_k",
        "pycharm": {
          "name": "#%% md\n"
        }
      },
      "source": [
        "Let's see what the output of this function is for various value of `z`"
      ]
    },
    {
      "cell_type": "code",
      "execution_count": 18,
      "id": "_l-eERw7BP_q",
      "metadata": {
        "id": "_l-eERw7BP_q",
        "pycharm": {
          "name": "#%%\n"
        }
      },
      "outputs": [
        {
          "name": "stdout",
          "output_type": "stream",
          "text": [
            "Input (z), Output (sigmoid(z))\n",
            "[[-1.0000e+01  4.5398e-05]\n",
            " [-9.0000e+00  1.2339e-04]\n",
            " [-8.0000e+00  3.3535e-04]\n",
            " [-7.0000e+00  9.1105e-04]\n",
            " [-6.0000e+00  2.4726e-03]\n",
            " [-5.0000e+00  6.6929e-03]\n",
            " [-4.0000e+00  1.7986e-02]\n",
            " [-3.0000e+00  4.7426e-02]\n",
            " [-2.0000e+00  1.1920e-01]\n",
            " [-1.0000e+00  2.6894e-01]\n",
            " [ 0.0000e+00  5.0000e-01]\n",
            " [ 1.0000e+00  7.3106e-01]\n",
            " [ 2.0000e+00  8.8080e-01]\n",
            " [ 3.0000e+00  9.5257e-01]\n",
            " [ 4.0000e+00  9.8201e-01]\n",
            " [ 5.0000e+00  9.9331e-01]\n",
            " [ 6.0000e+00  9.9753e-01]\n",
            " [ 7.0000e+00  9.9909e-01]\n",
            " [ 8.0000e+00  9.9966e-01]\n",
            " [ 9.0000e+00  9.9988e-01]\n",
            " [ 1.0000e+01  9.9995e-01]]\n"
          ]
        }
      ],
      "source": [
        "# Generate an array of evenly spaced values between -10 and 10\n",
        "z_tmp = np.arange(-10,11)\n",
        "\n",
        "# Use the function implemented above to get the sigmoid values\n",
        "y = sigmoid(z_tmp)\n",
        "\n",
        "# Code for pretty printing the two arrays next to each other\n",
        "np.set_printoptions(precision=4) #print option for printing the number of decimal places.\n",
        "print(\"Input (z), Output (sigmoid(z))\")\n",
        "print(np.c_[z_tmp, y]) #(np.c_)combine or concatenate two arrays. "
      ]
    },
    {
      "cell_type": "markdown",
      "id": "9QeXSNkmBP_v",
      "metadata": {
        "id": "9QeXSNkmBP_v",
        "pycharm": {
          "name": "#%% md\n"
        }
      },
      "source": [
        "The values in the left column are `z`, and the values in the right column are `sigmoid(z)`. As you can see, the input values to the sigmoid range from -10 to 10, and the output values range from 0 to 1.\n",
        "\n",
        "Now, let's try to plot this function using the `matplotlib` library."
      ]
    },
    {
      "cell_type": "code",
      "execution_count": 19,
      "id": "JoeMzv7iBP_6",
      "metadata": {
        "id": "JoeMzv7iBP_6",
        "pycharm": {
          "name": "#%%\n"
        }
      },
      "outputs": [
        {
          "data": {
            "text/plain": [
              "Text(0.5, 0, 'z')"
            ]
          },
          "execution_count": 19,
          "metadata": {},
          "output_type": "execute_result"
        },
        {
          "data": {
            "image/png": "[encoded data removed]",
            "text/plain": [
              "<Figure size 640x480 with 1 Axes>"
            ]
          },
          "metadata": {},
          "output_type": "display_data"
        }
      ],
      "source": [
        "# Plot z vs sigmoid(z)\n",
        "fig,ax = plt.subplots(1,1) #(rows, columns,figsize)\n",
        "ax.plot(z_tmp, y, c=\"b\") \n",
        "\n",
        "ax.set_title(\"Sigmoid function\")\n",
        "ax.set_ylabel('sigmoid(z)')\n",
        "ax.set_xlabel('z')"
      ]
    },
    {
      "cell_type": "markdown",
      "id": "mKF23OczBP_8",
      "metadata": {
        "id": "mKF23OczBP_8",
        "pycharm": {
          "name": "#%% md\n"
        }
      },
      "source": [
        "As you can see, the sigmoid function approaches  `0` as `z` goes to large negative values and approaches `1` as `z` goes to large positive values.\n"
      ]
    },
    {
      "cell_type": "markdown",
      "id": "kemeI55NBQAA",
      "metadata": {
        "id": "kemeI55NBQAA",
        "pycharm": {
          "name": "#%% md\n"
        }
      },
      "source": [
        "## Decision Boundary\n",
        " Lets the decision boundary for a logistic regression model. This will give you a better sense of what the model is predicting.\n",
        "\n"
      ]
    },
    {
      "cell_type": "markdown",
      "id": "tz6Bc6eQeBOh",
      "metadata": {
        "id": "tz6Bc6eQeBOh"
      },
      "source": [
        "Let's suppose you have following training dataset\n",
        "\n",
        "*   The input variable X is a numpy array which has 6 training examples, each with two features\n",
        "*   The output variable y is also a numpy array with 6 examples, and y is either 0 or 1"
      ]
    },
    {
      "cell_type": "code",
      "execution_count": 20,
      "id": "iL7MKGEaBQAE",
      "metadata": {
        "id": "iL7MKGEaBQAE",
        "pycharm": {
          "name": "#%%\n"
        },
        "tags": []
      },
      "outputs": [],
      "source": [
        "X = np.array([[0.5, 1.5], [1,1], [1.5, 0.5], [3, 0.5], [2, 2], [1, 2.5]])\n",
        "y = np.array([0, 0, 0, 1, 1, 1]).reshape(-1,1)"
      ]
    },
    {
      "cell_type": "markdown",
      "id": "c49XOvWQBQAE",
      "metadata": {
        "id": "c49XOvWQBQAE",
        "pycharm": {
          "name": "#%% md\n"
        }
      },
      "source": [
        "### Logistic regression model\n",
        "\n",
        "\n",
        "* Suppose you'd like to train a logistic regression model on this data which has the form   \n",
        "\n",
        "  $h(x) = g(w_0x_0+w_1x_1 + b)$\n",
        "  \n",
        "  where $g(z) = \\frac{1}{1+e^{-z}}$, which is the sigmoid function\n",
        "\n",
        "\n",
        "* Let's say that you trained the model and get the parameters as $b = -3, w_0 = 1, w_1 = 1$. That is,\n",
        "\n",
        "  $h(x) = g(x_0+x_1-3)$\n",
        "\n",
        "  (You'll learn how to train/fit and get these parameters in the further sections)\n",
        "  \n",
        "  \n",
        "Let's try to understand what this trained model is predicting by plotting its decision boundary"
      ]
    },
    {
      "cell_type": "markdown",
      "id": "50PnLNCBoOGl",
      "metadata": {
        "id": "50PnLNCBoOGl"
      },
      "source": [
        "* Recall that for logistic regression, the model is represented as\n",
        "\n",
        "  $$h(\\mathbf{x}^{(i)}) = g(\\mathbf{w} \\cdot \\mathbf{x}^{(i)} + b) \\tag{1}$$\n",
        "\n",
        "  where $g(z)$ is known as the sigmoid function and it maps all input values to values between 0 and 1:\n",
        "\n",
        "  $g(z) = \\frac{1}{1+e^{-z}}\\tag{2}$\n",
        "  and $\\mathbf{w} \\cdot \\mathbf{x}$ is the vector dot product:\n",
        "  \n",
        "  $$\\mathbf{w} \\cdot \\mathbf{x} = w_0 x_0 + w_1 x_1$$\n",
        "  \n",
        "  \n",
        " * We interpret the output of the model ($h(x)$) as the probability that $y=1$ given $\\mathbf{x}$ and parameterized by $\\mathbf{w}$ and $b$.\n",
        "* Therefore, to get a final prediction ($y=0$ or $y=1$) from the logistic regression model, we can use the following heuristic -\n",
        "\n",
        "  if $h(x) >= 0.5$, predict $y=1$\n",
        "  \n",
        "  if $h(x) < 0.5$, predict $y=0$\n",
        "  \n",
        "  \n",
        "* Let's plot the sigmoid function to see where $g(z) >= 0.5$"
      ]
    },
    {
      "cell_type": "markdown",
      "id": "4XJnhFrjoepr",
      "metadata": {
        "id": "4XJnhFrjoepr"
      },
      "source": [
        "## Plotting decision boundary\n",
        "\n",
        "Now, let's go back to our example to understand how the logistic regression model is making predictions.\n",
        "\n",
        "* Our logistic regression model has the form\n",
        "\n",
        "  $h(\\mathbf{x}) = g(-3 + x_0+x_1)$\n",
        "\n",
        "\n",
        "* From what you've learnt above, you can see that this model predicts $y=1$ if $-3 + x_0+x_1 >= 0$\n",
        "\n",
        "Let's see what this looks like graphically. We'll start by plotting $-3 + x_0+x_1 = 0$, which is equivalent to $x_1 = 3 - x_0$."
      ]
    },
    {
      "cell_type": "code",
      "execution_count": 35,
      "id": "SIVeGSizoNze",
      "metadata": {
        "id": "SIVeGSizoNze"
      },
      "outputs": [
        {
          "name": "stdout",
          "output_type": "stream",
          "text": [
            "[0 1 2 3]\n"
          ]
        },
        {
          "data": {
            "image/png": "[encoded data removed]",
            "text/plain": [
              "<Figure size 640x480 with 1 Axes>"
            ]
          },
          "metadata": {},
          "output_type": "display_data"
        }
      ],
      "source": [
        "# Choose values between 0 and 4\n",
        "x0 = np.arange(0,4) \n",
        "print(x0)\n",
        "x1 = 3 - x0\n",
        "plt.figure()\n",
        "ax = plt.gca() #get current axes\n",
        "# Plot the decision boundary\n",
        "ax.plot(x0,x1, c=\"b\") #c= color\n",
        "ax.axis([0, 4, 0, 3.5]) #defines the axes for graph ([(0,0),(0,0)])\n",
        "\n",
        "# Fill the region below the line\n",
        "ax.fill_between(x0,x1, alpha=0.2)\n",
        "\n",
        "# Plot the original data\n",
        "\n",
        "plot_data(X,y,ax)\n",
        "ax.set_ylabel(r'$x_1$')\n",
        "ax.set_xlabel(r'$x_0$')\n",
        "plt.show()"
      ]
    },
    {
      "cell_type": "markdown",
      "id": "5wm5lA5eqbId",
      "metadata": {
        "id": "5wm5lA5eqbId"
      },
      "source": [
        "## Train a logistic regression model using scikit-learn\n",
        "\n",
        "https://scikit-learn.org/0.16/modules/generated/sklearn.linear_model.LogisticRegression.html\n",
        "\n",
        "\n",
        "- Create a Regression Object\n",
        "- Call fit function\n",
        "- Get predictions\n",
        "- Get Score of model\n",
        "- Get coefficients (w0, w1) and intercept(b)"
      ]
    },
    {
      "cell_type": "code",
      "execution_count": 36,
      "id": "4mlAppyUY4PJ",
      "metadata": {
        "id": "4mlAppyUY4PJ"
      },
      "outputs": [
        {
          "name": "stderr",
          "output_type": "stream",
          "text": [
            "c:\\Users\\sayee\\AppData\\Local\\Programs\\Python\\Python312\\Lib\\site-packages\\sklearn\\utils\\validation.py:1408: DataConversionWarning: A column-vector y was passed when a 1d array was expected. Please change the shape of y to (n_samples, ), for example using ravel().\n",
            "  y = column_or_1d(y, warn=True)\n"
          ]
        },
        {
          "data": {
            "text/html": [
              "<style>#sk-container-id-1 {\n",
              "  /* Definition of color scheme common for light and dark mode */\n",
              "  --sklearn-color-text: #000;\n",
              "  --sklearn-color-text-muted: #666;\n",
              "  --sklearn-color-line: gray;\n",
              "  /* Definition of color scheme for unfitted estimators */\n",
              "  --sklearn-color-unfitted-level-0: #fff5e6;\n",
              "  --sklearn-color-unfitted-level-1: #f6e4d2;\n",
              "  --sklearn-color-unfitted-level-2: #ffe0b3;\n",
              "  --sklearn-color-unfitted-level-3: chocolate;\n",
              "  /* Definition of color scheme for fitted estimators */\n",
              "  --sklearn-color-fitted-level-0: #f0f8ff;\n",
              "  --sklearn-color-fitted-level-1: #d4ebff;\n",
              "  --sklearn-color-fitted-level-2: #b3dbfd;\n",
              "  --sklearn-color-fitted-level-3: cornflowerblue;\n",
              "\n",
              "  /* Specific color for light theme */\n",
              "  --sklearn-color-text-on-default-background: var(--sg-text-color, var(--theme-code-foreground, var(--jp-content-font-color1, black)));\n",
              "  --sklearn-color-background: var(--sg-background-color, var(--theme-background, var(--jp-layout-color0, white)));\n",
              "  --sklearn-color-border-box: var(--sg-text-color, var(--theme-code-foreground, var(--jp-content-font-color1, black)));\n",
              "  --sklearn-color-icon: #696969;\n",
              "\n",
              "  @media (prefers-color-scheme: dark) {\n",
              "    /* Redefinition of color scheme for dark theme */\n",
              "    --sklearn-color-text-on-default-background: var(--sg-text-color, var(--theme-code-foreground, var(--jp-content-font-color1, white)));\n",
              "    --sklearn-color-background: var(--sg-background-color, var(--theme-background, var(--jp-layout-color0, #111)));\n",
              "    --sklearn-color-border-box: var(--sg-text-color, var(--theme-code-foreground, var(--jp-content-font-color1, white)));\n",
              "    --sklearn-color-icon: #878787;\n",
              "  }\n",
              "}\n",
              "\n",
              "#sk-container-id-1 {\n",
              "  color: var(--sklearn-color-text);\n",
              "}\n",
              "\n",
              "#sk-container-id-1 pre {\n",
              "  padding: 0;\n",
              "}\n",
              "\n",
              "#sk-container-id-1 input.sk-hidden--visually {\n",
              "  border: 0;\n",
              "  clip: rect(1px 1px 1px 1px);\n",
              "  clip: rect(1px, 1px, 1px, 1px);\n",
              "  height: 1px;\n",
              "  margin: -1px;\n",
              "  overflow: hidden;\n",
              "  padding: 0;\n",
              "  position: absolute;\n",
              "  width: 1px;\n",
              "}\n",
              "\n",
              "#sk-container-id-1 div.sk-dashed-wrapped {\n",
              "  border: 1px dashed var(--sklearn-color-line);\n",
              "  margin: 0 0.4em 0.5em 0.4em;\n",
              "  box-sizing: border-box;\n",
              "  padding-bottom: 0.4em;\n",
              "  background-color: var(--sklearn-color-background);\n",
              "}\n",
              "\n",
              "#sk-container-id-1 div.sk-container {\n",
              "  /* jupyter's `normalize.less` sets `[hidden] { display: none; }`\n",
              "     but bootstrap.min.css set `[hidden] { display: none !important; }`\n",
              "     so we also need the `!important` here to be able to override the\n",
              "     default hidden behavior on the sphinx rendered scikit-learn.org.\n",
              "     See: https://github.com/scikit-learn/scikit-learn/issues/21755 */\n",
              "  display: inline-block !important;\n",
              "  position: relative;\n",
              "}\n",
              "\n",
              "#sk-container-id-1 div.sk-text-repr-fallback {\n",
              "  display: none;\n",
              "}\n",
              "\n",
              "div.sk-parallel-item,\n",
              "div.sk-serial,\n",
              "div.sk-item {\n",
              "  /* draw centered vertical line to link estimators */\n",
              "  background-image: linear-gradient(var(--sklearn-color-text-on-default-background), var(--sklearn-color-text-on-default-background));\n",
              "  background-size: 2px 100%;\n",
              "  background-repeat: no-repeat;\n",
              "  background-position: center center;\n",
              "}\n",
              "\n",
              "/* Parallel-specific style estimator block */\n",
              "\n",
              "#sk-container-id-1 div.sk-parallel-item::after {\n",
              "  content: \"\";\n",
              "  width: 100%;\n",
              "  border-bottom: 2px solid var(--sklearn-color-text-on-default-background);\n",
              "  flex-grow: 1;\n",
              "}\n",
              "\n",
              "#sk-container-id-1 div.sk-parallel {\n",
              "  display: flex;\n",
              "  align-items: stretch;\n",
              "  justify-content: center;\n",
              "  background-color: var(--sklearn-color-background);\n",
              "  position: relative;\n",
              "}\n",
              "\n",
              "#sk-container-id-1 div.sk-parallel-item {\n",
              "  display: flex;\n",
              "  flex-direction: column;\n",
              "}\n",
              "\n",
              "#sk-container-id-1 div.sk-parallel-item:first-child::after {\n",
              "  align-self: flex-end;\n",
              "  width: 50%;\n",
              "}\n",
              "\n",
              "#sk-container-id-1 div.sk-parallel-item:last-child::after {\n",
              "  align-self: flex-start;\n",
              "  width: 50%;\n",
              "}\n",
              "\n",
              "#sk-container-id-1 div.sk-parallel-item:only-child::after {\n",
              "  width: 0;\n",
              "}\n",
              "\n",
              "/* Serial-specific style estimator block */\n",
              "\n",
              "#sk-container-id-1 div.sk-serial {\n",
              "  display: flex;\n",
              "  flex-direction: column;\n",
              "  align-items: center;\n",
              "  background-color: var(--sklearn-color-background);\n",
              "  padding-right: 1em;\n",
              "  padding-left: 1em;\n",
              "}\n",
              "\n",
              "\n",
              "/* Toggleable style: style used for estimator/Pipeline/ColumnTransformer box that is\n",
              "clickable and can be expanded/collapsed.\n",
              "- Pipeline and ColumnTransformer use this feature and define the default style\n",
              "- Estimators will overwrite some part of the style using the `sk-estimator` class\n",
              "*/\n",
              "\n",
              "/* Pipeline and ColumnTransformer style (default) */\n",
              "\n",
              "#sk-container-id-1 div.sk-toggleable {\n",
              "  /* Default theme specific background. It is overwritten whether we have a\n",
              "  specific estimator or a Pipeline/ColumnTransformer */\n",
              "  background-color: var(--sklearn-color-background);\n",
              "}\n",
              "\n",
              "/* Toggleable label */\n",
              "#sk-container-id-1 label.sk-toggleable__label {\n",
              "  cursor: pointer;\n",
              "  display: flex;\n",
              "  width: 100%;\n",
              "  margin-bottom: 0;\n",
              "  padding: 0.5em;\n",
              "  box-sizing: border-box;\n",
              "  text-align: center;\n",
              "  align-items: start;\n",
              "  justify-content: space-between;\n",
              "  gap: 0.5em;\n",
              "}\n",
              "\n",
              "#sk-container-id-1 label.sk-toggleable__label .caption {\n",
              "  font-size: 0.6rem;\n",
              "  font-weight: lighter;\n",
              "  color: var(--sklearn-color-text-muted);\n",
              "}\n",
              "\n",
              "#sk-container-id-1 label.sk-toggleable__label-arrow:before {\n",
              "  /* Arrow on the left of the label */\n",
              "  content: \"▸\";\n",
              "  float: left;\n",
              "  margin-right: 0.25em;\n",
              "  color: var(--sklearn-color-icon);\n",
              "}\n",
              "\n",
              "#sk-container-id-1 label.sk-toggleable__label-arrow:hover:before {\n",
              "  color: var(--sklearn-color-text);\n",
              "}\n",
              "\n",
              "/* Toggleable content - dropdown */\n",
              "\n",
              "#sk-container-id-1 div.sk-toggleable__content {\n",
              "  max-height: 0;\n",
              "  max-width: 0;\n",
              "  overflow: hidden;\n",
              "  text-align: left;\n",
              "  /* unfitted */\n",
              "  background-color: var(--sklearn-color-unfitted-level-0);\n",
              "}\n",
              "\n",
              "#sk-container-id-1 div.sk-toggleable__content.fitted {\n",
              "  /* fitted */\n",
              "  background-color: var(--sklearn-color-fitted-level-0);\n",
              "}\n",
              "\n",
              "#sk-container-id-1 div.sk-toggleable__content pre {\n",
              "  margin: 0.2em;\n",
              "  border-radius: 0.25em;\n",
              "  color: var(--sklearn-color-text);\n",
              "  /* unfitted */\n",
              "  background-color: var(--sklearn-color-unfitted-level-0);\n",
              "}\n",
              "\n",
              "#sk-container-id-1 div.sk-toggleable__content.fitted pre {\n",
              "  /* unfitted */\n",
              "  background-color: var(--sklearn-color-fitted-level-0);\n",
              "}\n",
              "\n",
              "#sk-container-id-1 input.sk-toggleable__control:checked~div.sk-toggleable__content {\n",
              "  /* Expand drop-down */\n",
              "  max-height: 200px;\n",
              "  max-width: 100%;\n",
              "  overflow: auto;\n",
              "}\n",
              "\n",
              "#sk-container-id-1 input.sk-toggleable__control:checked~label.sk-toggleable__label-arrow:before {\n",
              "  content: \"▾\";\n",
              "}\n",
              "\n",
              "/* Pipeline/ColumnTransformer-specific style */\n",
              "\n",
              "#sk-container-id-1 div.sk-label input.sk-toggleable__control:checked~label.sk-toggleable__label {\n",
              "  color: var(--sklearn-color-text);\n",
              "  background-color: var(--sklearn-color-unfitted-level-2);\n",
              "}\n",
              "\n",
              "#sk-container-id-1 div.sk-label.fitted input.sk-toggleable__control:checked~label.sk-toggleable__label {\n",
              "  background-color: var(--sklearn-color-fitted-level-2);\n",
              "}\n",
              "\n",
              "/* Estimator-specific style */\n",
              "\n",
              "/* Colorize estimator box */\n",
              "#sk-container-id-1 div.sk-estimator input.sk-toggleable__control:checked~label.sk-toggleable__label {\n",
              "  /* unfitted */\n",
              "  background-color: var(--sklearn-color-unfitted-level-2);\n",
              "}\n",
              "\n",
              "#sk-container-id-1 div.sk-estimator.fitted input.sk-toggleable__control:checked~label.sk-toggleable__label {\n",
              "  /* fitted */\n",
              "  background-color: var(--sklearn-color-fitted-level-2);\n",
              "}\n",
              "\n",
              "#sk-container-id-1 div.sk-label label.sk-toggleable__label,\n",
              "#sk-container-id-1 div.sk-label label {\n",
              "  /* The background is the default theme color */\n",
              "  color: var(--sklearn-color-text-on-default-background);\n",
              "}\n",
              "\n",
              "/* On hover, darken the color of the background */\n",
              "#sk-container-id-1 div.sk-label:hover label.sk-toggleable__label {\n",
              "  color: var(--sklearn-color-text);\n",
              "  background-color: var(--sklearn-color-unfitted-level-2);\n",
              "}\n",
              "\n",
              "/* Label box, darken color on hover, fitted */\n",
              "#sk-container-id-1 div.sk-label.fitted:hover label.sk-toggleable__label.fitted {\n",
              "  color: var(--sklearn-color-text);\n",
              "  background-color: var(--sklearn-color-fitted-level-2);\n",
              "}\n",
              "\n",
              "/* Estimator label */\n",
              "\n",
              "#sk-container-id-1 div.sk-label label {\n",
              "  font-family: monospace;\n",
              "  font-weight: bold;\n",
              "  display: inline-block;\n",
              "  line-height: 1.2em;\n",
              "}\n",
              "\n",
              "#sk-container-id-1 div.sk-label-container {\n",
              "  text-align: center;\n",
              "}\n",
              "\n",
              "/* Estimator-specific */\n",
              "#sk-container-id-1 div.sk-estimator {\n",
              "  font-family: monospace;\n",
              "  border: 1px dotted var(--sklearn-color-border-box);\n",
              "  border-radius: 0.25em;\n",
              "  box-sizing: border-box;\n",
              "  margin-bottom: 0.5em;\n",
              "  /* unfitted */\n",
              "  background-color: var(--sklearn-color-unfitted-level-0);\n",
              "}\n",
              "\n",
              "#sk-container-id-1 div.sk-estimator.fitted {\n",
              "  /* fitted */\n",
              "  background-color: var(--sklearn-color-fitted-level-0);\n",
              "}\n",
              "\n",
              "/* on hover */\n",
              "#sk-container-id-1 div.sk-estimator:hover {\n",
              "  /* unfitted */\n",
              "  background-color: var(--sklearn-color-unfitted-level-2);\n",
              "}\n",
              "\n",
              "#sk-container-id-1 div.sk-estimator.fitted:hover {\n",
              "  /* fitted */\n",
              "  background-color: var(--sklearn-color-fitted-level-2);\n",
              "}\n",
              "\n",
              "/* Specification for estimator info (e.g. \"i\" and \"?\") */\n",
              "\n",
              "/* Common style for \"i\" and \"?\" */\n",
              "\n",
              ".sk-estimator-doc-link,\n",
              "a:link.sk-estimator-doc-link,\n",
              "a:visited.sk-estimator-doc-link {\n",
              "  float: right;\n",
              "  font-size: smaller;\n",
              "  line-height: 1em;\n",
              "  font-family: monospace;\n",
              "  background-color: var(--sklearn-color-background);\n",
              "  border-radius: 1em;\n",
              "  height: 1em;\n",
              "  width: 1em;\n",
              "  text-decoration: none !important;\n",
              "  margin-left: 0.5em;\n",
              "  text-align: center;\n",
              "  /* unfitted */\n",
              "  border: var(--sklearn-color-unfitted-level-1) 1pt solid;\n",
              "  color: var(--sklearn-color-unfitted-level-1);\n",
              "}\n",
              "\n",
              ".sk-estimator-doc-link.fitted,\n",
              "a:link.sk-estimator-doc-link.fitted,\n",
              "a:visited.sk-estimator-doc-link.fitted {\n",
              "  /* fitted */\n",
              "  border: var(--sklearn-color-fitted-level-1) 1pt solid;\n",
              "  color: var(--sklearn-color-fitted-level-1);\n",
              "}\n",
              "\n",
              "/* On hover */\n",
              "div.sk-estimator:hover .sk-estimator-doc-link:hover,\n",
              ".sk-estimator-doc-link:hover,\n",
              "div.sk-label-container:hover .sk-estimator-doc-link:hover,\n",
              ".sk-estimator-doc-link:hover {\n",
              "  /* unfitted */\n",
              "  background-color: var(--sklearn-color-unfitted-level-3);\n",
              "  color: var(--sklearn-color-background);\n",
              "  text-decoration: none;\n",
              "}\n",
              "\n",
              "div.sk-estimator.fitted:hover .sk-estimator-doc-link.fitted:hover,\n",
              ".sk-estimator-doc-link.fitted:hover,\n",
              "div.sk-label-container:hover .sk-estimator-doc-link.fitted:hover,\n",
              ".sk-estimator-doc-link.fitted:hover {\n",
              "  /* fitted */\n",
              "  background-color: var(--sklearn-color-fitted-level-3);\n",
              "  color: var(--sklearn-color-background);\n",
              "  text-decoration: none;\n",
              "}\n",
              "\n",
              "/* Span, style for the box shown on hovering the info icon */\n",
              ".sk-estimator-doc-link span {\n",
              "  display: none;\n",
              "  z-index: 9999;\n",
              "  position: relative;\n",
              "  font-weight: normal;\n",
              "  right: .2ex;\n",
              "  padding: .5ex;\n",
              "  margin: .5ex;\n",
              "  width: min-content;\n",
              "  min-width: 20ex;\n",
              "  max-width: 50ex;\n",
              "  color: var(--sklearn-color-text);\n",
              "  box-shadow: 2pt 2pt 4pt #999;\n",
              "  /* unfitted */\n",
              "  background: var(--sklearn-color-unfitted-level-0);\n",
              "  border: .5pt solid var(--sklearn-color-unfitted-level-3);\n",
              "}\n",
              "\n",
              ".sk-estimator-doc-link.fitted span {\n",
              "  /* fitted */\n",
              "  background: var(--sklearn-color-fitted-level-0);\n",
              "  border: var(--sklearn-color-fitted-level-3);\n",
              "}\n",
              "\n",
              ".sk-estimator-doc-link:hover span {\n",
              "  display: block;\n",
              "}\n",
              "\n",
              "/* \"?\"-specific style due to the `<a>` HTML tag */\n",
              "\n",
              "#sk-container-id-1 a.estimator_doc_link {\n",
              "  float: right;\n",
              "  font-size: 1rem;\n",
              "  line-height: 1em;\n",
              "  font-family: monospace;\n",
              "  background-color: var(--sklearn-color-background);\n",
              "  border-radius: 1rem;\n",
              "  height: 1rem;\n",
              "  width: 1rem;\n",
              "  text-decoration: none;\n",
              "  /* unfitted */\n",
              "  color: var(--sklearn-color-unfitted-level-1);\n",
              "  border: var(--sklearn-color-unfitted-level-1) 1pt solid;\n",
              "}\n",
              "\n",
              "#sk-container-id-1 a.estimator_doc_link.fitted {\n",
              "  /* fitted */\n",
              "  border: var(--sklearn-color-fitted-level-1) 1pt solid;\n",
              "  color: var(--sklearn-color-fitted-level-1);\n",
              "}\n",
              "\n",
              "/* On hover */\n",
              "#sk-container-id-1 a.estimator_doc_link:hover {\n",
              "  /* unfitted */\n",
              "  background-color: var(--sklearn-color-unfitted-level-3);\n",
              "  color: var(--sklearn-color-background);\n",
              "  text-decoration: none;\n",
              "}\n",
              "\n",
              "#sk-container-id-1 a.estimator_doc_link.fitted:hover {\n",
              "  /* fitted */\n",
              "  background-color: var(--sklearn-color-fitted-level-3);\n",
              "}\n",
              "</style><div id=\"sk-container-id-1\" class=\"sk-top-container\"><div class=\"sk-text-repr-fallback\"><pre>LogisticRegression()</pre><b>In a Jupyter environment, please rerun this cell to show the HTML representation or trust the notebook. <br />On GitHub, the HTML representation is unable to render, please try loading this page with nbviewer.org.</b></div><div class=\"sk-container\" hidden><div class=\"sk-item\"><div class=\"sk-estimator fitted sk-toggleable\"><input class=\"sk-toggleable__control sk-hidden--visually\" id=\"sk-estimator-id-1\" type=\"checkbox\" checked><label for=\"sk-estimator-id-1\" class=\"sk-toggleable__label fitted sk-toggleable__label-arrow\"><div><div>LogisticRegression</div></div><div><a class=\"sk-estimator-doc-link fitted\" rel=\"noreferrer\" target=\"_blank\" href=\"https://scikit-learn.org/1.6/modules/generated/sklearn.linear_model.LogisticRegression.html\">?<span>Documentation for LogisticRegression</span></a><span class=\"sk-estimator-doc-link fitted\">i<span>Fitted</span></span></div></label><div class=\"sk-toggleable__content fitted\"><pre>LogisticRegression()</pre></div> </div></div></div></div>"
            ],
            "text/plain": [
              "LogisticRegression()"
            ]
          },
          "execution_count": 36,
          "metadata": {},
          "output_type": "execute_result"
        }
      ],
      "source": [
        "from sklearn.linear_model import LogisticRegression\n",
        "model = LogisticRegression()\n",
        "model.fit(X,y)\n",
        "\n"
      ]
    },
    {
      "cell_type": "code",
      "execution_count": 42,
      "id": "DCAYsryLqn2W",
      "metadata": {
        "id": "DCAYsryLqn2W"
      },
      "outputs": [
        {
          "name": "stdout",
          "output_type": "stream",
          "text": [
            "Predicted value: [0 0 0 1 1 1]\n",
            "Log Predicted Value:  [[-0.378  -1.1559]\n",
            " [-0.4053 -1.099 ]\n",
            " [-0.4341 -1.0437]\n",
            " [-1.1345 -0.388 ]\n",
            " [-1.2743 -0.328 ]\n",
            " [-0.9191 -0.509 ]]\n",
            "Predicted proabalitiy value:  [[0.6852 0.3148]\n",
            " [0.6668 0.3332]\n",
            " [0.6479 0.3521]\n",
            " [0.3216 0.6784]\n",
            " [0.2796 0.7204]\n",
            " [0.3989 0.6011]]\n"
          ]
        }
      ],
      "source": [
        "pred = model.predict(X)\n",
        "print(\"Predicted value:\",pred)\n",
        "\n",
        "log_pred = model.predict_log_proba(X)\n",
        "print(\"Log Predicted Value: \",log_pred)\n",
        "\n",
        "prob_pred = model.predict_proba(X)\n",
        "print(\"Predicted proabalitiy value: \",prob_pred)"
      ]
    },
    {
      "cell_type": "code",
      "execution_count": 44,
      "id": "TVbOj_DSqnwS",
      "metadata": {
        "id": "TVbOj_DSqnwS"
      },
      "outputs": [
        {
          "name": "stdout",
          "output_type": "stream",
          "text": [
            "Model Score:  1.0\n"
          ]
        }
      ],
      "source": [
        "score_model = model.score(X, y)\n",
        "print(\"Model Score: \",score_model)"
      ]
    },
    {
      "cell_type": "code",
      "execution_count": 46,
      "id": "FpD0H_oHqzEI",
      "metadata": {
        "id": "FpD0H_oHqzEI"
      },
      "outputs": [
        {
          "name": "stdout",
          "output_type": "stream",
          "text": [
            "Theta/Parameters of the model: w0 = 0.9041134943596744, w1 = 0.7358754294504457, b = -2.333716311676968 \n"
          ]
        }
      ],
      "source": [
        "print(f\"Theta/Parameters of the model: w0 = {model.coef_[0][0]}, w1 = {model.coef_[0][1]}, b = {model.intercept_[0]} \")"
      ]
    }
  ],
  "metadata": {
    "colab": {
      "provenance": []
    },
    "kernelspec": {
      "display_name": "Python 3",
      "language": "python",
      "name": "python3"
    },
    "language_info": {
      "codemirror_mode": {
        "name": "ipython",
        "version": 3
      },
      "file_extension": ".py",
      "mimetype": "text/x-python",
      "name": "python",
      "nbconvert_exporter": "python",
      "pygments_lexer": "ipython3",
      "version": "3.12.2"
    }
  },
  "nbformat": 4,
  "nbformat_minor": 5
}
